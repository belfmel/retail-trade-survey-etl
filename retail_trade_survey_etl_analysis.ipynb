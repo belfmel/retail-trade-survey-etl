{
 "cells": [
  {
   "cell_type": "markdown",
   "metadata": {},
   "source": [
    "# Monthly Retail Trade Survey ETL and Analysis\n",
    "\n",
    "Melissa Belfer"
   ]
  },
  {
   "cell_type": "markdown",
   "metadata": {},
   "source": [
    "# Index\n",
    "\n",
    "- [Abstract](#Abstract)\n",
    "- [1. Introduction](#1.-Introduction)\n",
    "- [2. Extract-Transform-Load](#2.-Extract-Transform-Load)\n",
    "    - [2.1 The ETL Process](#2.1-The-ETL-Process)\n",
    "    - [2.2 Data Exploration](#2.2-Data-Exploration)\n",
    "    - [2.3 Data Preparation](#2.3-Data-Preparation)\n",
    "    - [2.4 Read the Data Using Python](#2.4-Reading-the-Data-Using-Python)\n",
    "         - [2.4.1 Reading Sample Data](#2.4.1-Reading-Sample-Data)\n",
    "         - [2.4.2 Reading the MRST Data](#2.4.2-Reading-the-MRST-Data)\n",
    "    - [2.5 Writing an Installation Script](#2.5-Writing-an-Installation-Script)\n",
    "- [3. Analysis and Visualization](#3.-Project-Description)\n",
    "    - [3.1 Running Queries in MySQL Workbech](#3.1-Running-Queries-in-MySQL-Workbech)\n",
    "    - [3.2 Running Queries From Python](#3.2-Running-Queries-From-Python)\n",
    "    - [3.3 Explore Trends](#3.3-Explore-Trends)\n",
    "    - [3.4 Explore Percentage Change](#3.4-Explore-Percentage-Change)\n",
    "    - [3.5 Explore Rolling Time Windows](#3.5-Explore-Rolling-Time-Windows)\n",
    "- [Conclusion](#Conclusion)\n",
    "- [References](#References)"
   ]
  },
  {
   "cell_type": "markdown",
   "metadata": {},
   "source": [
    "[Back to top](#Index)\n",
    "\n",
    "\n",
    "##  Abstract\n"
   ]
  },
  {
   "cell_type": "markdown",
   "metadata": {},
   "source": [
    "After creating an automated ETL process on the Monthly Retail Trader Survey data, I am able to analyze the dataset.  There is an uptrend in the retail and food service businesses as well as the beer, wine, and liquor stores.  There is a common decrease in spending across businesses during March-April 2020, which is when covid lockdown happened.  There is also another common decrease in spending in 2008-2009 during the Great Recession.  There is a seasonal trend yearly of an increase in spending during November and December which is during the holiday season. "
   ]
  },
  {
   "cell_type": "markdown",
   "metadata": {},
   "source": [
    "[Back to top](#Index)\n",
    "\n",
    "\n",
    "## 1. Introduction\n"
   ]
  },
  {
   "cell_type": "markdown",
   "metadata": {},
   "source": [
    "I will be extracting data from the Monthly Retail Trade Survey since 1992 to the beginning of 2021 and performing an ETL on the data, analyzing the time series, and representing the trends through visual representation.  First, I start by analyzing the Excel sheet that the MRTS data is in and notice the common patterns.  I use the common patterns to build an automated ETL process in Python that loads the data into a table in a MySQL database. I extract every sheet from the excel, transform the dataset by transposing the dataset, and combining all the cleaned datasets into one DataFrame.  This final DataFrame is then loaded into a table in MySQL.  I then begin performing my analysis by finding trends in the different kind of businesses over the years.  This involves querying the dataset to produce a subset of the main data and plotting the data on a graph. After plotting the data, I can notice the trends in the dataset.  I can determine what trends have an uptrend, downtrend, or just stationary.  I look at trends with the raw values, the rolling averages, and the percentage change.  I am able to look at a less volatile dataset with rolling averages versus the raw values.  I am also able to look at the percentage change that shows more unusual changes in the dataset. "
   ]
  },
  {
   "cell_type": "markdown",
   "metadata": {},
   "source": [
    "[Back to top](#Index)\n",
    "\n",
    "## 2. Extract-Transform-Load\n"
   ]
  },
  {
   "cell_type": "markdown",
   "metadata": {},
   "source": [
    "[Back to top](#Index)\n",
    "\n",
    "### 2.1 The ETL Process\n"
   ]
  },
  {
   "cell_type": "markdown",
   "metadata": {},
   "source": [
    "In order to perform ETL on the MRTS dataset, I need to eliminate any unnecessary information from the excel sheet which can be done manually or using pandas.  I then need to load each sheet from the excel file into a python program and transform the data by cleaning up the datasets to only include necessary information.  This process involves removing any unnecessary rows or columns, cleaning up column names, changing datatypes if necessary, and deriving new columns from the source columns if necessary.  After the dataset is cleaned and transformed into the format necessary, I load it into a database.  For this situation, I load the cleaned and transformed data into a MySQL database."
   ]
  },
  {
   "cell_type": "markdown",
   "metadata": {},
   "source": [
    "[Back to top](#Index)\n",
    "\n",
    "### 2.2 Data Exploration\n"
   ]
  },
  {
   "cell_type": "markdown",
   "metadata": {},
   "source": [
    "The monthly retail trade survey is used to capture the monthly sales for each kind of business.  It contains the monthly sales for grocerys stores, furniture stores, department stores, and a lot more.  It will then sum all of the data from each kind of business for the year and capture the total amount for that kind of business. "
   ]
  },
  {
   "cell_type": "markdown",
   "metadata": {},
   "source": [
    "[Back to top](#Index)\n",
    "\n",
    "### 2.3 Data Preparation\n",
    "\n",
    "\n"
   ]
  },
  {
   "cell_type": "markdown",
   "metadata": {},
   "source": [
    "I  decided to modify the excel sheet by importing each sheet into python using the pandas read_excel() function.  This function allowed me to skip the first 4 rows and the bottom 50 rows from each excel sheet since I only want the not adjusted data from the excel sheet. The only values I wanted to keep were the date columns and the data under ‘Kind of Business’. Once I imported the data into a DataFrame, I dropped the first column and the total column.  \n",
    "\n",
    "When analyzing time series data, the date values are in a column next to the value column you are analyzing.  Although in the excel sheet the date values were the column headers, so I decided to un-pivot the data by using the pandas melt() function to pivot all the date columns but not the ‘Kind of Business’ column.  After I transposed the DataFrame, I changed all values that were (S) or (NA) to zero because I wanted only numeric values for my analysis. I also decided to drop all rows containing a null value since that data won’t be of use during the analysis phase.  The column that contains the date field is an object data type, but I want the column to be of a date datatype.  So I converted the column to a date datatype using the pandas function to_datetime().  I then concatenated all the DataFrames from each sheet in the excel file before loading the data into the database. \n"
   ]
  },
  {
   "cell_type": "markdown",
   "metadata": {},
   "source": [
    "[Back to top](#Index)\n",
    "\n",
    "### 2.4 Read the Data Using Python\n"
   ]
  },
  {
   "cell_type": "markdown",
   "metadata": {},
   "source": [
    "The Pandas library contains a function **read_excel()** that can read each sheet of an excel into a DataFrame.  The function takes the arguments of filename, sheet_name, skiprows, and skipfooter.  The skiprows argument allows to skip the top rows of the excel sheet, and the skipfooter argument allows me to skip the bottom rows of the excel sheet that I don't want to import into my DataFrame.\n",
    "\n",
    "By using the read_excel() function, I did not need to export each excel sheet to a csv.  The process I did to read sample data is different then the process I took to read the mrts data. The code for reading sample data from a csv with python is below.  The code I used in my installation script is in the files **mrts_etl.py** and **etl.py**. The main script is **mrts_etl.py** and it imports **etl.py** functions."
   ]
  },
  {
   "cell_type": "markdown",
   "metadata": {},
   "source": [
    "[Back to top](#Index)\n",
    "\n",
    "### 2.4.1 Reading Sample Data\n"
   ]
  },
  {
   "cell_type": "markdown",
   "metadata": {},
   "source": [
    "The sample dataset I used to test my Python script is a csv that covers the unique case scenarios in the MRTS dataset.  The columns are 'Unnamed: 1', 'Jan. 2020','Feb. 2020', and 'total'. The values in 'Unnamed: 1' contains string and the column will be converted to column name 'KindOfBusiness'.  The values in the columns 'Jan. 2020', 'Feb. 2020', and 'total' contain either a number with a comma in it, a string of (S), a string of (NA), or it is empty. "
   ]
  },
  {
   "cell_type": "markdown",
   "metadata": {},
   "source": [
    "I used pandas to read the csv into a dataframe by using the function *pd.read_csv()*.  "
   ]
  },
  {
   "cell_type": "code",
   "execution_count": 4,
   "metadata": {},
   "outputs": [
    {
     "name": "stdout",
     "output_type": "stream",
     "text": [
      "            Unnamed: 1 Jan. 2020 Feb. 2020    total\n",
      "0     Furniture stores       NaN     5,691  100,691\n",
      "1       Grocery stores    64,785    59,076  105,691\n",
      "2   Electronics stores     5,435       (S)  150,691\n",
      "3  Retail sales, total      (NA)     5,435  150,691\n",
      "4      New car dealers    72,074    82,174  160,381\n",
      "5     Used car dealers     7,074    10,174   30,381\n"
     ]
    }
   ],
   "source": [
    "import pandas as pd\n",
    "\n",
    "df = pd.read_csv('sample_data.csv')\n",
    "print(df)"
   ]
  },
  {
   "cell_type": "markdown",
   "metadata": {},
   "source": [
    "I then preceded to clean the dataframe by dropping the total column, renaming the column 'Unnamed: 1' to 'KindOfBusiness', transposing the dataframe, replacing all values of (S) & (NA) with 0, dropping all rows containing a null value, and converting the value function to a datatype of date."
   ]
  },
  {
   "cell_type": "code",
   "execution_count": 6,
   "metadata": {},
   "outputs": [
    {
     "data": {
      "text/html": [
       "<div>\n",
       "<style scoped>\n",
       "    .dataframe tbody tr th:only-of-type {\n",
       "        vertical-align: middle;\n",
       "    }\n",
       "\n",
       "    .dataframe tbody tr th {\n",
       "        vertical-align: top;\n",
       "    }\n",
       "\n",
       "    .dataframe thead th {\n",
       "        text-align: right;\n",
       "    }\n",
       "</style>\n",
       "<table border=\"1\" class=\"dataframe\">\n",
       "  <thead>\n",
       "    <tr style=\"text-align: right;\">\n",
       "      <th></th>\n",
       "      <th>KindOfBusiness</th>\n",
       "      <th>Jan. 2020</th>\n",
       "      <th>Feb. 2020</th>\n",
       "    </tr>\n",
       "  </thead>\n",
       "  <tbody>\n",
       "    <tr>\n",
       "      <th>0</th>\n",
       "      <td>Furniture stores</td>\n",
       "      <td>NaN</td>\n",
       "      <td>5,691</td>\n",
       "    </tr>\n",
       "    <tr>\n",
       "      <th>1</th>\n",
       "      <td>Grocery stores</td>\n",
       "      <td>64,785</td>\n",
       "      <td>59,076</td>\n",
       "    </tr>\n",
       "    <tr>\n",
       "      <th>2</th>\n",
       "      <td>Electronics stores</td>\n",
       "      <td>5,435</td>\n",
       "      <td>(S)</td>\n",
       "    </tr>\n",
       "    <tr>\n",
       "      <th>3</th>\n",
       "      <td>Retail sales, total</td>\n",
       "      <td>(NA)</td>\n",
       "      <td>5,435</td>\n",
       "    </tr>\n",
       "    <tr>\n",
       "      <th>4</th>\n",
       "      <td>New car dealers</td>\n",
       "      <td>72,074</td>\n",
       "      <td>82,174</td>\n",
       "    </tr>\n",
       "    <tr>\n",
       "      <th>5</th>\n",
       "      <td>Used car dealers</td>\n",
       "      <td>7,074</td>\n",
       "      <td>10,174</td>\n",
       "    </tr>\n",
       "  </tbody>\n",
       "</table>\n",
       "</div>"
      ],
      "text/plain": [
       "        KindOfBusiness Jan. 2020 Feb. 2020\n",
       "0     Furniture stores       NaN     5,691\n",
       "1       Grocery stores    64,785    59,076\n",
       "2   Electronics stores     5,435       (S)\n",
       "3  Retail sales, total      (NA)     5,435\n",
       "4      New car dealers    72,074    82,174\n",
       "5     Used car dealers     7,074    10,174"
      ]
     },
     "execution_count": 6,
     "metadata": {},
     "output_type": "execute_result"
    }
   ],
   "source": [
    "# Drop last column\n",
    "df.drop(df.columns[3], axis=1, inplace=True)\n",
    "\n",
    "# Rename first column\n",
    "colnames = {'Unnamed: 1': 'KindOfBusiness'}\n",
    "df.rename(columns=colnames, inplace=True)\n",
    "df"
   ]
  },
  {
   "cell_type": "code",
   "execution_count": 8,
   "metadata": {},
   "outputs": [
    {
     "data": {
      "text/html": [
       "<div>\n",
       "<style scoped>\n",
       "    .dataframe tbody tr th:only-of-type {\n",
       "        vertical-align: middle;\n",
       "    }\n",
       "\n",
       "    .dataframe tbody tr th {\n",
       "        vertical-align: top;\n",
       "    }\n",
       "\n",
       "    .dataframe thead th {\n",
       "        text-align: right;\n",
       "    }\n",
       "</style>\n",
       "<table border=\"1\" class=\"dataframe\">\n",
       "  <thead>\n",
       "    <tr style=\"text-align: right;\">\n",
       "      <th></th>\n",
       "      <th>KindOfBusiness</th>\n",
       "      <th>variable</th>\n",
       "      <th>value</th>\n",
       "    </tr>\n",
       "  </thead>\n",
       "  <tbody>\n",
       "    <tr>\n",
       "      <th>0</th>\n",
       "      <td>Furniture stores</td>\n",
       "      <td>Jan. 2020</td>\n",
       "      <td>NaN</td>\n",
       "    </tr>\n",
       "    <tr>\n",
       "      <th>1</th>\n",
       "      <td>Grocery stores</td>\n",
       "      <td>Jan. 2020</td>\n",
       "      <td>64,785</td>\n",
       "    </tr>\n",
       "    <tr>\n",
       "      <th>2</th>\n",
       "      <td>Electronics stores</td>\n",
       "      <td>Jan. 2020</td>\n",
       "      <td>5,435</td>\n",
       "    </tr>\n",
       "    <tr>\n",
       "      <th>3</th>\n",
       "      <td>Retail sales, total</td>\n",
       "      <td>Jan. 2020</td>\n",
       "      <td>(NA)</td>\n",
       "    </tr>\n",
       "    <tr>\n",
       "      <th>4</th>\n",
       "      <td>New car dealers</td>\n",
       "      <td>Jan. 2020</td>\n",
       "      <td>72,074</td>\n",
       "    </tr>\n",
       "    <tr>\n",
       "      <th>5</th>\n",
       "      <td>Used car dealers</td>\n",
       "      <td>Jan. 2020</td>\n",
       "      <td>7,074</td>\n",
       "    </tr>\n",
       "    <tr>\n",
       "      <th>6</th>\n",
       "      <td>Furniture stores</td>\n",
       "      <td>Feb. 2020</td>\n",
       "      <td>5,691</td>\n",
       "    </tr>\n",
       "    <tr>\n",
       "      <th>7</th>\n",
       "      <td>Grocery stores</td>\n",
       "      <td>Feb. 2020</td>\n",
       "      <td>59,076</td>\n",
       "    </tr>\n",
       "    <tr>\n",
       "      <th>8</th>\n",
       "      <td>Electronics stores</td>\n",
       "      <td>Feb. 2020</td>\n",
       "      <td>(S)</td>\n",
       "    </tr>\n",
       "    <tr>\n",
       "      <th>9</th>\n",
       "      <td>Retail sales, total</td>\n",
       "      <td>Feb. 2020</td>\n",
       "      <td>5,435</td>\n",
       "    </tr>\n",
       "    <tr>\n",
       "      <th>10</th>\n",
       "      <td>New car dealers</td>\n",
       "      <td>Feb. 2020</td>\n",
       "      <td>82,174</td>\n",
       "    </tr>\n",
       "    <tr>\n",
       "      <th>11</th>\n",
       "      <td>Used car dealers</td>\n",
       "      <td>Feb. 2020</td>\n",
       "      <td>10,174</td>\n",
       "    </tr>\n",
       "  </tbody>\n",
       "</table>\n",
       "</div>"
      ],
      "text/plain": [
       "         KindOfBusiness   variable   value\n",
       "0      Furniture stores  Jan. 2020     NaN\n",
       "1        Grocery stores  Jan. 2020  64,785\n",
       "2    Electronics stores  Jan. 2020   5,435\n",
       "3   Retail sales, total  Jan. 2020    (NA)\n",
       "4       New car dealers  Jan. 2020  72,074\n",
       "5      Used car dealers  Jan. 2020   7,074\n",
       "6      Furniture stores  Feb. 2020   5,691\n",
       "7        Grocery stores  Feb. 2020  59,076\n",
       "8    Electronics stores  Feb. 2020     (S)\n",
       "9   Retail sales, total  Feb. 2020   5,435\n",
       "10      New car dealers  Feb. 2020  82,174\n",
       "11     Used car dealers  Feb. 2020  10,174"
      ]
     },
     "execution_count": 8,
     "metadata": {},
     "output_type": "execute_result"
    }
   ],
   "source": [
    "# Unpivot dataframe\n",
    "df = pd.melt(df, id_vars='KindOfBusiness', value_vars=df.columns[1:])\n",
    "df"
   ]
  },
  {
   "cell_type": "code",
   "execution_count": 9,
   "metadata": {},
   "outputs": [
    {
     "data": {
      "text/html": [
       "<div>\n",
       "<style scoped>\n",
       "    .dataframe tbody tr th:only-of-type {\n",
       "        vertical-align: middle;\n",
       "    }\n",
       "\n",
       "    .dataframe tbody tr th {\n",
       "        vertical-align: top;\n",
       "    }\n",
       "\n",
       "    .dataframe thead th {\n",
       "        text-align: right;\n",
       "    }\n",
       "</style>\n",
       "<table border=\"1\" class=\"dataframe\">\n",
       "  <thead>\n",
       "    <tr style=\"text-align: right;\">\n",
       "      <th></th>\n",
       "      <th>KindOfBusiness</th>\n",
       "      <th>value</th>\n",
       "      <th>Date</th>\n",
       "    </tr>\n",
       "  </thead>\n",
       "  <tbody>\n",
       "    <tr>\n",
       "      <th>1</th>\n",
       "      <td>Grocery stores</td>\n",
       "      <td>64,785</td>\n",
       "      <td>2020-01-01</td>\n",
       "    </tr>\n",
       "    <tr>\n",
       "      <th>2</th>\n",
       "      <td>Electronics stores</td>\n",
       "      <td>5,435</td>\n",
       "      <td>2020-01-01</td>\n",
       "    </tr>\n",
       "    <tr>\n",
       "      <th>3</th>\n",
       "      <td>Retail sales, total</td>\n",
       "      <td>0</td>\n",
       "      <td>2020-01-01</td>\n",
       "    </tr>\n",
       "    <tr>\n",
       "      <th>4</th>\n",
       "      <td>New car dealers</td>\n",
       "      <td>72,074</td>\n",
       "      <td>2020-01-01</td>\n",
       "    </tr>\n",
       "    <tr>\n",
       "      <th>5</th>\n",
       "      <td>Used car dealers</td>\n",
       "      <td>7,074</td>\n",
       "      <td>2020-01-01</td>\n",
       "    </tr>\n",
       "    <tr>\n",
       "      <th>6</th>\n",
       "      <td>Furniture stores</td>\n",
       "      <td>5,691</td>\n",
       "      <td>2020-02-01</td>\n",
       "    </tr>\n",
       "    <tr>\n",
       "      <th>7</th>\n",
       "      <td>Grocery stores</td>\n",
       "      <td>59,076</td>\n",
       "      <td>2020-02-01</td>\n",
       "    </tr>\n",
       "    <tr>\n",
       "      <th>8</th>\n",
       "      <td>Electronics stores</td>\n",
       "      <td>0</td>\n",
       "      <td>2020-02-01</td>\n",
       "    </tr>\n",
       "    <tr>\n",
       "      <th>9</th>\n",
       "      <td>Retail sales, total</td>\n",
       "      <td>5,435</td>\n",
       "      <td>2020-02-01</td>\n",
       "    </tr>\n",
       "    <tr>\n",
       "      <th>10</th>\n",
       "      <td>New car dealers</td>\n",
       "      <td>82,174</td>\n",
       "      <td>2020-02-01</td>\n",
       "    </tr>\n",
       "    <tr>\n",
       "      <th>11</th>\n",
       "      <td>Used car dealers</td>\n",
       "      <td>10,174</td>\n",
       "      <td>2020-02-01</td>\n",
       "    </tr>\n",
       "  </tbody>\n",
       "</table>\n",
       "</div>"
      ],
      "text/plain": [
       "         KindOfBusiness   value       Date\n",
       "1        Grocery stores  64,785 2020-01-01\n",
       "2    Electronics stores   5,435 2020-01-01\n",
       "3   Retail sales, total       0 2020-01-01\n",
       "4       New car dealers  72,074 2020-01-01\n",
       "5      Used car dealers   7,074 2020-01-01\n",
       "6      Furniture stores   5,691 2020-02-01\n",
       "7        Grocery stores  59,076 2020-02-01\n",
       "8    Electronics stores       0 2020-02-01\n",
       "9   Retail sales, total   5,435 2020-02-01\n",
       "10      New car dealers  82,174 2020-02-01\n",
       "11     Used car dealers  10,174 2020-02-01"
      ]
     },
     "execution_count": 9,
     "metadata": {},
     "output_type": "execute_result"
    }
   ],
   "source": [
    "# Replace all the (S) & (NA) to 0\n",
    "df.replace('(S)', 0, inplace=True)\n",
    "df.replace('(NA)', 0, inplace=True)\n",
    "\n",
    "# Drop all rows where there is a null value\n",
    "df.dropna(axis=0, inplace=True)\n",
    "\n",
    "# Convert variable column to date format\n",
    "df['Date'] = pd.to_datetime(df['variable'])\n",
    "df.drop(columns=['variable'], inplace=True)\n",
    "df"
   ]
  },
  {
   "cell_type": "markdown",
   "metadata": {},
   "source": [
    "[Back to top](#Index)\n",
    "\n",
    "### 2.4.2 Reading the MRTS Data\n",
    "\n"
   ]
  },
  {
   "cell_type": "markdown",
   "metadata": {},
   "source": [
    "\n",
    "In order to read the mrts dataset into Python, I create a list of all the sheet names but exclude sheet 2021.  All of the sheets except 2021 have a similar format. I first read the sheet into a dataframe using pandas read_excel() function and include the rows I want to skip at the beginning of the sheet and the rows at the bottom I want to skip.  I decide to skip the first 4 rows and the bottom 50.\n",
    "\n",
    "For the 2021 sheet, I drop the first column and last two columns.  I then rename the columns 'Unnamed: 1' to 'KindOfBusiness' and 'Feb. 2021(p)' to 'Feb. 2021'.  After renaming the column, I transpose the dataframe by using the melt() function in pandas.  I transpose all the date columns.  After the dataframe is unpivoted, I clean up the dataframe by changing (S) and (NA) values to 0, drop all rows containing nulls as this data is no longer useful for analysis, and create a date column with the datatype datetime64[ns] for the Months and Years.  \n",
    "\n",
    "I set the 2021 cleaned dataframe as the final dataframe.  I then loop through all the rest of the sheets and concat the cleaned dataframes to the 2021 dataframe.  The only steps that differ from the steps performed on the 2021 sheet is that I just drop the first and last column, and rename only the column 'Unnamed: 1' to 'KindOfBusiness'. The rest of the actions of cleaning the data remain the same. "
   ]
  },
  {
   "cell_type": "markdown",
   "metadata": {},
   "source": [
    "Functions below are used to clean and transform my data as well as reduce redundancy in my code. "
   ]
  },
  {
   "cell_type": "code",
   "execution_count": null,
   "metadata": {},
   "outputs": [],
   "source": [
    "def unpivot_dataframe(df):\n",
    "    \"\"\" Unpivots the source dataframe for each excel sheet \"\"\"\n",
    "    return pd.melt(df, id_vars='KindOfBusiness', value_vars=df.columns[1:])\n",
    "\n",
    "def replace_with_zero(df, str):\n",
    "    \"\"\" Replaces string value with 0 in the DataFrame \"\"\"\n",
    "    df.replace(str, 0, inplace=True)\n",
    "    return df\n",
    "\n",
    "def clean_source_data(df):\n",
    "    \"\"\" Cleans source data for (S), (NA), null values, and column data types/renaming \"\"\"\n",
    "    # Replace all the (S) & (NA) to 0\n",
    "    df = replace_with_zero(df, '(S)')\n",
    "    df = replace_with_zero(df, '(NA)')\n",
    "\n",
    "    # Drop all rows where there is a null value\n",
    "    df.dropna(axis=0, inplace=True)\n",
    "\n",
    "    # Convert variable column to date format\n",
    "    df['Date'] = pd.to_datetime(df['variable'])\n",
    "    df.drop(columns=['variable'], inplace=True)\n",
    "\n",
    "    df.rename(columns={'value': 'Value'}, inplace=True)\n",
    "    return df"
   ]
  },
  {
   "cell_type": "markdown",
   "metadata": {},
   "source": [
    "The code below is in the main script mrts_etl.py which is part of my installation script.  This extracts all the sheets from the excel file, cleans them, and transforms the data into what will be the best format for analysis. "
   ]
  },
  {
   "cell_type": "code",
   "execution_count": null,
   "metadata": {},
   "outputs": [],
   "source": [
    "# Source Data Details\n",
    "filename = 'mrtssales92-present.xls'\n",
    "sheets = ['2020', '2019', '2018', '2017', '2016', '2015', '2014', '2013', '2012', '2011', '2010', '2009', '2008', '2007', '2006', '2005', '2004', '2003', '2002', '2001', '2000', '1999', '1998', '1997', '1996', '1995', '1994', '1993', '1992']"
   ]
  },
  {
   "cell_type": "code",
   "execution_count": null,
   "metadata": {},
   "outputs": [],
   "source": [
    "# Need to clean up sheet 2021 separately as it does not match other sheets\n",
    "finaldf = pd.read_excel(filename, sheet_name='2021', skiprows=4, skipfooter=50)\n",
    "finaldf.drop(finaldf.columns[[0,4,5]], axis=1, inplace=True)\n",
    "# Rename columns\n",
    "colnames = {'Unnamed: 1': 'KindOfBusiness', 'Feb. 2021(p)': 'Feb. 2021'}\n",
    "finaldf.rename(columns=colnames, inplace=True)\n",
    "# Unpivot the dataframe\n",
    "finaldf = unpivot_dataframe(finaldf)\n",
    "# Clean up the rows by changing (S) & (NA) to 0, dropping null rows, and creating date column\n",
    "finaldf = clean_source_data(finaldf)\n",
    "\n",
    "for sheet in sheets:\n",
    "    # Skip first 4 rows and skip last 50 rows\n",
    "    df = pd.read_excel(filename, sheet_name=sheet, skiprows=4, skipfooter=50)\n",
    "    # Drop first column and last column\n",
    "    df.drop(df.columns[[0,14]], axis=1, inplace=True)\n",
    "    # Rename first column\n",
    "    colnames = {'Unnamed: 1': 'KindOfBusiness'}\n",
    "    df.rename(columns=colnames, inplace=True)\n",
    "    # Unpivot the dataframe\n",
    "    df = unpivot_dataframe(df)\n",
    "    # Clean up the rows by changing (S) & (NA) to 0, dropping null rows, and creating date column\n",
    "    df = clean_source_data(df)\n",
    "    # Merge the data into one dataframe\n",
    "    finaldf = pd.concat([finaldf,df], ignore_index=True)"
   ]
  },
  {
   "cell_type": "markdown",
   "metadata": {},
   "source": [
    "![MRTS ETL Output](ETL_output.png)"
   ]
  },
  {
   "cell_type": "markdown",
   "metadata": {},
   "source": [
    "[Back to top](#Index)\n",
    "\n",
    "### 2.5 Writing an Installation Script"
   ]
  },
  {
   "cell_type": "markdown",
   "metadata": {},
   "source": [
    "The details above describe the extraction, cleaning, and transforming steps for mrts data.  The only step that was added to complete my Python installation script is loading the DataFrame into a table in MySQL.  In order to do this, I create a yaml file to contain my database properties and use those properties to connect to mysql using the mysql.connector library.  I then use the connection to create a cursor object that I use to execute my queries.  I create an mrts database and then insert each row in the final DataFrame into the mrts table. I then commit my changes and close my cursor and database connection."
   ]
  },
  {
   "cell_type": "markdown",
   "metadata": {},
   "source": [
    "The main script is **mrts_etl.py**.  The other script that contains all the ETL functions I created to make my code reusable is in the file **etl.py**, which I then imported those functions in my main script. \n",
    "\n",
    "My property file is **db.yaml**.  I did not include the file in my submission as it includes a password.  Example of file excluding the password is below. \n",
    "\n",
    "```yaml\n",
    "host: \"localhost\"\n",
    "user: \"root\"\n",
    "pass: \"\"\n",
    "db: \"mrts\"\n",
    "```\n",
    "\n",
    "My source file that contains the data is **mrtssales92-present.xls**."
   ]
  },
  {
   "cell_type": "markdown",
   "metadata": {},
   "source": [
    "#### The functions below are used in my installation script to connect to my database, create a database, create a table, insert data, and disconnect my database."
   ]
  },
  {
   "cell_type": "code",
   "execution_count": null,
   "metadata": {},
   "outputs": [],
   "source": [
    "import pandas as pd\n",
    "import mysql.connector\n",
    "\n",
    "def connect_db(db):\n",
    "    \"\"\" Connect to the MySQL Database \"\"\"\n",
    "    config = {\n",
    "        'user': db['user'],\n",
    "        'password': db['pass'],\n",
    "        'host': db['host'],\n",
    "        'database': db['db'],\n",
    "        'auth_plugin': 'mysql_native_password'\n",
    "    }\n",
    "    cnx = mysql.connector.connect(**config)\n",
    "    return cnx\n",
    "\n",
    "def disconnect_db(cursor, cnx):\n",
    "    \"\"\" Disconnect from the MySQL Database \"\"\"\n",
    "    cursor.close()\n",
    "    cnx.close()"
   ]
  },
  {
   "cell_type": "code",
   "execution_count": null,
   "metadata": {},
   "outputs": [],
   "source": [
    "def create_db(cursor):\n",
    "    \"\"\" Create DataBase mrts \"\"\"\n",
    "    drop_db = 'DROP DATABASE IF EXISTS `mrts`'\n",
    "    cursor.execute(drop_db)\n",
    "    create_db = 'CREATE DATABASE IF NOT EXISTS `mrts`'\n",
    "    cursor.execute(create_db)\n",
    "    use_db = 'USE `mrts`'\n",
    "    cursor.execute(use_db)\n",
    "    cursor.execute('SET NAMES UTF8MB4;')\n",
    "    cursor.execute('SET character_set_client = UTF8MB4;')"
   ]
  },
  {
   "cell_type": "code",
   "execution_count": null,
   "metadata": {},
   "outputs": [],
   "source": [
    "def create_table(cursor):\n",
    "    \"\"\" Create mrts Table \"\"\"\n",
    "    query = (f\"CREATE TABLE `mrts` (`KindOfBusiness` varchar(100) NOT NULL, `Value` float(10,2) NOT NULL, `Date` DATE NOT NULL, PRIMARY KEY (KindOfBusiness, Date))\")\n",
    "    cursor.execute(query)"
   ]
  },
  {
   "cell_type": "code",
   "execution_count": null,
   "metadata": {},
   "outputs": [],
   "source": [
    "def insert_data(cursor, df):\n",
    "    \"\"\" Insert DataFrame into mrts table \"\"\"\n",
    "    for index, row in df.iterrows():\n",
    "        cursor.execute('INSERT INTO mrts (KindOfBusiness,Value,Date) VALUES(%s, %s, %s);', (row[0], row[1], str(row[2])))\n",
    "\n"
   ]
  },
  {
   "cell_type": "markdown",
   "metadata": {},
   "source": [
    "The output below shows that my python installation script was able to load data into the database named 'mrts' and load all the sheets data into one table called 'mrts'."
   ]
  },
  {
   "cell_type": "markdown",
   "metadata": {},
   "source": [
    "![Output of Installation Script](installation_script_output.png)"
   ]
  },
  {
   "cell_type": "markdown",
   "metadata": {},
   "source": [
    "\n",
    "[Back to top](#Index)\n",
    "\n",
    "## 3. Analysis and Visualization\n",
    "\n"
   ]
  },
  {
   "cell_type": "markdown",
   "metadata": {},
   "source": [
    "The benefit of running queries in a Python environment is that I can use matplotlib and other graphing libraries to visualize the dataset.  MySQL workbench is very nice workspace for writing queries and looking at the values, but it doesn't have the potential for data visualization like Python does.  "
   ]
  },
  {
   "cell_type": "markdown",
   "metadata": {},
   "source": [
    "[Back to top](#Index)\n",
    "\n",
    "### 3.1 Running Queries in MySQL Workbench\n"
   ]
  },
  {
   "cell_type": "markdown",
   "metadata": {},
   "source": [
    "I used the below queries to verify that the data was loaded into the table correctly. \n",
    "\n",
    "```sql\n",
    "USE mrts;\n",
    "SELECT * FROM mrts;\n",
    "SELECT COUNT(*) FROM mrts; -- returns 21370\n",
    "SELECT COUNT(DISTINCT KindOfBusiness) FROM mrts; -- returns 65\n",
    "SELECT KindOfBusiness, COUNT(*) FROM mrts GROUP BY KindOfBusiness;\n",
    "```\n",
    "\n",
    "Before I loaded the data into MySQL, I received the count of the total rows which was 21,370.  This count of the rows matches the count of the rows I receive when I run this query in MySQL Workbench.\n",
    "\n",
    "I verify that all of the categorys are loaded into the table by getting the count of the distinct kind of businesses.  I then look at the counts of how many records are loaded into the table for each kind of business. "
   ]
  },
  {
   "cell_type": "markdown",
   "metadata": {},
   "source": [
    "![Data Verification](data_verification.png)"
   ]
  },
  {
   "cell_type": "markdown",
   "metadata": {},
   "source": [
    "[Back to top](#Index)\n",
    "\n",
    "### 3.2 Running Queries From Python\n",
    "\n"
   ]
  },
  {
   "cell_type": "markdown",
   "metadata": {},
   "source": [
    "I tested the same queries in the Python environment.  Below shows the code written in python, and the results from the queries."
   ]
  },
  {
   "cell_type": "code",
   "execution_count": null,
   "metadata": {},
   "outputs": [],
   "source": [
    "def test_queries(cursor):\n",
    "    cursor.execute('SELECT * FROM mrts;')\n",
    "    # print all the rows\n",
    "    for row in cursor.fetchall():\n",
    "        print(row)\n",
    "    \n",
    "    cursor.execute('SELECT COUNT(*) FROM mrts;')\n",
    "    print(cursor.fetchone())\n",
    "    \n",
    "    cursor.execute('SELECT COUNT(DISTINCT KindOfBusiness) FROM mrts')\n",
    "    print(cursor.fetchone())\n",
    "\n",
    "    cursor.execute('SELECT KindOfBusiness, COUNT(*) FROM mrts GROUP BY KindOfBusiness;')\n",
    "    # print all the rows\n",
    "    for row in cursor.fetchall():\n",
    "        print(row)"
   ]
  },
  {
   "cell_type": "markdown",
   "metadata": {},
   "source": [
    "Shows the results of the query in python for \n",
    "```sql\n",
    "SELECT * FROM mrts;\n",
    "```\n",
    "![Select All](select_all_query_result.png)\n",
    "\n",
    "Shows the results of the queries in python for \n",
    "```sql\n",
    "SELECT COUNT(*) FROM mrts; -- first row\n",
    "SELECT COUNT(DISTINCT KindOfBusiness) FROM mrts; -- second row\n",
    "SELECT KindOfBusiness, COUNT(*) FROM mrts GROUP BY KindOfBusiness; -- rest of the rows\n",
    "```\n",
    "\n",
    "![Other Query Results](python_query_results.png)"
   ]
  },
  {
   "cell_type": "markdown",
   "metadata": {},
   "source": [
    "[Back to top](#Index)\n",
    "\n",
    "### 3.3 Explore Trends\n"
   ]
  },
  {
   "cell_type": "markdown",
   "metadata": {},
   "source": [
    "I created the below function to reduce the redundancy of my code when plotting graphs."
   ]
  },
  {
   "cell_type": "code",
   "execution_count": null,
   "metadata": {},
   "outputs": [],
   "source": [
    "import matplotlib.pyplot as plt\n",
    "def plot_data(x, y, title, xlabel='Date', ylabel='Value'):\n",
    "    plt.plot(x,y)\n",
    "    plt.title(title)\n",
    "    plt.xlabel(xlabel)\n",
    "    plt.ylabel(ylabel)\n",
    "    plt.show()"
   ]
  },
  {
   "cell_type": "markdown",
   "metadata": {},
   "source": [
    "#### Economic Trend\n",
    "\n",
    "An economic trend is a trend in the economy that can grow upwards, downwards, or stationary.  If the trend is stationary, it doesn't show any slope which means the economy is neither growing or shrinking.\n",
    "\n",
    "It is important measure to predict quantities like spending patterns because it shows if people are spending a lot, then the economy is growing and wages are also growing.  Unlike if people are not spending, then the economy is shrinking and unemployment is on the rise. "
   ]
  },
  {
   "cell_type": "markdown",
   "metadata": {},
   "source": [
    "#### Trend for the Retail and Food Services Category\n",
    "\n",
    "There is an uptrend for the total sales for the retail and food services categories.  As displayed in the graph below. \n",
    "\n",
    "In order to see the data displayed clearly, I sorted the dates in ascending order. \n",
    "\n",
    "![Retail and Food Services Category](total_sales_retail_food_trend.png)\n"
   ]
  },
  {
   "cell_type": "code",
   "execution_count": null,
   "metadata": {},
   "outputs": [],
   "source": [
    "df_retail_food_total = df[df['KindOfBusiness'] == 'Retail and food services sales, total'].copy()\n",
    "# Sort data in ascending order\n",
    "df_retail_food_total.sort_values(by=['Date'], inplace=True)\n",
    "plot_data(df_retail_food_total['Date'], df_retail_food_total['Value'], 'Total Sales for the Retail and Food Services From 1992-2021')\n"
   ]
  },
  {
   "cell_type": "markdown",
   "metadata": {},
   "source": [
    "#### Comparison between bookstores, sporting goods stores, and hobbies, toys, and games stores businesses\n",
    "\n",
    "When comparing the different businesses, sporting goods stores had the highest upward trend from 1992 to 2021.  It also has the highest values compared to the other stores.  Sporting good stores grew the fastest especially from 2008 to the present. During the time when sporting good stores started growing faster, bookstores started going downwards.  \n",
    "\n",
    "There was a drop in sales in the year 2020 during the month of April, which makes sense since covid-19 lockdown happened in March 2020. \n"
   ]
  },
  {
   "cell_type": "markdown",
   "metadata": {},
   "source": [
    "![Comparison](retail_business.png)"
   ]
  },
  {
   "cell_type": "markdown",
   "metadata": {},
   "source": [
    "Below shows a zommed version of the above graph, which shows the data from 1997 to 1999.  In the below graph we can see a seasonal pattern.  All three retail businesses spike between the months of November and December, which makes sense as that is the holiday season.  Another interesting season spike is with book stores during the summer months.  It is not as huge of a spike as during the holiday season, but it still increases during the months of July and August.  \n",
    "\n",
    "As it is hard to see the seasonal patterns in a yearly graph, I show the same data but monthly for the year of 1998. \n",
    "\n",
    "A yearly graph is good to get a general view of the trend, but to see a closer view of seasonal spikes it is better to have a monthly view.  \n",
    "\n",
    "Below shows the code used to produce a yearly view vs a monthly view of the comparison"
   ]
  },
  {
   "cell_type": "code",
   "execution_count": null,
   "metadata": {},
   "outputs": [],
   "source": [
    "# Comparison between bookstores, sporting goods stores, and hobbies, toys, and games stores businesses\n",
    "df_sporting = df.loc[(df['KindOfBusiness'] == 'Sporting goods stores')].sort_values(by=['Date']).copy()\n",
    "df_hobbies = df.loc[df['KindOfBusiness'] == 'Hobby, toy, and game stores'].sort_values(by=['Date']).copy()\n",
    "df_book = df.loc[df['KindOfBusiness'] == 'Book stores'].sort_values(by=['Date']).copy()\n",
    "\n",
    "plt.plot(df_sporting['Date'],df_sporting['Value'], label='Sporting goods stores')\n",
    "plt.plot(df_hobbies['Date'],df_hobbies['Value'], label='Hobby, toy, and game stores')\n",
    "plt.plot(df_book['Date'],df_book['Value'], label='Book stores')\n",
    "plt.legend()\n",
    "plt.title('Comparison of retail businesses: bookstores, sporting goods stores, and hobbies, toys, and games stores')\n",
    "plt.xlabel('Date')\n",
    "plt.ylabel('Value')\n",
    "plt.show()\n",
    "\n",
    "df = df[(df['Date'] > '1997-12-01') & (df['Date'] < '1999-01-01')]\n",
    "df_sporting = df.loc[(df['KindOfBusiness'] == 'Sporting goods stores')].sort_values(by=['Date']).copy()\n",
    "df_hobbies = df.loc[df['KindOfBusiness'] == 'Hobby, toy, and game stores'].sort_values(by=['Date']).copy()\n",
    "df_book = df.loc[df['KindOfBusiness'] == 'Book stores'].sort_values(by=['Date']).copy()\n",
    "\n",
    "plt.plot(df_sporting['Date'],df_sporting['Value'], label='Sporting goods stores')\n",
    "plt.plot(df_hobbies['Date'],df_hobbies['Value'], label='Hobby, toy, and game stores')\n",
    "plt.plot(df_book['Date'],df_book['Value'], label='Book stores')\n",
    "plt.legend()\n",
    "plt.title('Comparison of retail businesses: bookstores, sporting goods stores, and hobbies, toys, and games stores')\n",
    "plt.xlabel('Date')\n",
    "plt.ylabel('Value')\n",
    "plt.show()"
   ]
  },
  {
   "cell_type": "markdown",
   "metadata": {},
   "source": [
    "![Seasonal](seasonal_retail_trend.png)"
   ]
  },
  {
   "cell_type": "markdown",
   "metadata": {},
   "source": [
    "![Monthly 1998](retail_1998_monthly.png)"
   ]
  },
  {
   "cell_type": "markdown",
   "metadata": {},
   "source": [
    "[Back to top](#Index)\n",
    "\n",
    "### 3.4 Explore Percentage Change\n"
   ]
  },
  {
   "cell_type": "markdown",
   "metadata": {},
   "source": [
    "The percentage change shows what percentage of a value has changed over a period of time.  This is used in stocks to show the percentage change at the end of the day of the stock prices.  The percentage change is important because it can help economists predict and estimate the next rise or fall.  The percent change is unitless which helps us avoid looking at the units of something since that can be misleading.  \n"
   ]
  },
  {
   "cell_type": "markdown",
   "metadata": {},
   "source": [
    "#### Women's vs Men's Clothing\n",
    "\n",
    "After calculating the percent change of women's and men's clothing spending from 1992 to 2021, it shows that the percent change for both men and women's clothing stays very conistent.  These two businesses both involve buying clothes, but for different genders.  The percent change over the years stays stationary except during the year 2020 when we see a fluctuation in the percent change. The percent change stays under 1% except during the year 2020 when the women's clothing percent change jumps above 1%.  \n",
    "There is a consistent seasonal percentage change jump during the months from Novemeber to January where spending goes up during the holidays and decreases fast when the holidays are over. "
   ]
  },
  {
   "cell_type": "code",
   "execution_count": null,
   "metadata": {},
   "outputs": [],
   "source": [
    "def percent_change(df):\n",
    "    \"\"\" Calculates the percent change for women's and mens clothing \"\"\"\n",
    "    df_women = df.loc[(df['KindOfBusiness'] == \"Women's clothing stores\")].sort_values(by=['Date']).set_index('Date').drop(columns='KindOfBusiness').copy()\n",
    "    df_men = df.loc[df['KindOfBusiness'] == \"Men's clothing stores\"].sort_values(by=['Date']).set_index('Date').drop(columns='KindOfBusiness').copy()\n",
    "\n",
    "    df_women_percent = df_women.pct_change()\n",
    "    df_men_percent = df_men.pct_change()\n",
    "\n",
    "    plt.plot(df_women_percent.index,df_women_percent['Value'], label='Women')\n",
    "    plt.plot(df_men_percent.index,df_men_percent['Value'], label='Men')\n",
    "    plt.legend()\n",
    "    plt.title(\"Comparison of women's clothing and men's clothing businesses\")\n",
    "    plt.xlabel('Date')\n",
    "    plt.ylabel('Percent Change')\n",
    "    plt.show()\n"
   ]
  },
  {
   "cell_type": "markdown",
   "metadata": {},
   "source": [
    "![Comparison](clothing.png)\n",
    "![Closer Look](percent_2020.png)"
   ]
  },
  {
   "cell_type": "markdown",
   "metadata": {},
   "source": [
    "[Back to top](#Index)\n",
    "\n",
    "### 3.5 Explore Rolling Time Windows\n"
   ]
  },
  {
   "cell_type": "markdown",
   "metadata": {},
   "source": [
    "The rolling time window lets you perform operations on a subset of data for a period of time, but instead of just receiving the average amount for a time period of January 1st to December 31st.  It allows you to compute the average amount for the last year.  It doesn't matter that the day is not December 31st. If the day is July 15th, it will still return the average amount for the last year.  This is really important when you want to consistently get the average spending of data for the last week or month. \n",
    "\n",
    "Rolling time windows are important when showing an economic trend since it's used to smooth the data which can help notice changes in the economy versus a non-smoothed peak.  This can reduce the volatility of the data trends.  Economists will use rolling time windows to smooth the data to analyze the trends better."
   ]
  },
  {
   "cell_type": "markdown",
   "metadata": {},
   "source": [
    "#### Gas Station Sales \n",
    "\n",
    "The gas station sales actual value versus rolling average of 3 and 6 months are very similar.  The only difference is the peaks on the graph are slightly smaller. \n",
    "\n",
    "In the graph we can also see a drastic drop in gas sales from 2008 to 2009.  This makes sense since the great recession was during this time period. Another drastic drop in gas sales happened from end of 2019 to beginning of 2020, which is during the time covid-19 lock-down happened. \n"
   ]
  },
  {
   "cell_type": "markdown",
   "metadata": {},
   "source": [
    "![Gas Prices](rolling_avg_gas.png)"
   ]
  },
  {
   "cell_type": "code",
   "execution_count": null,
   "metadata": {},
   "outputs": [],
   "source": [
    "# Code that produced the graph above\n",
    "df_gas= df.loc[(df['KindOfBusiness'] == 'Gasoline stations')].sort_values(by=['Date']).copy()\n",
    "\n",
    "df_gas['RA_3'] = df_gas[\"Value\"].rolling(3, win_type ='triang').mean()\n",
    "df_gas['RA_6'] = df_gas[\"Value\"].rolling(6, win_type ='triang').mean()\n",
    "print(df_gas)\n",
    "\n",
    "plt.plot(df_gas['Date'],df_gas['Value'], label='Value')\n",
    "plt.plot(df_gas['Date'],df_gas['RA_3'], label='Rolling Avg 3 Months')\n",
    "plt.plot(df_gas['Date'],df_gas['RA_6'], label='Rolling Avg 6 Months')\n",
    "plt.legend()\n",
    "plt.title(\"Rolling Average of Gas Prices over 3 and 6 months\")\n",
    "plt.xlabel('Date')\n",
    "plt.ylabel('Value')\n",
    "plt.show()"
   ]
  },
  {
   "cell_type": "markdown",
   "metadata": {},
   "source": [
    "#### Beer, wine, and liquor stores"
   ]
  },
  {
   "cell_type": "markdown",
   "metadata": {},
   "source": [
    "I compared the value, rolling average over 3 months, and rolling average over 6 months for the sales at beer, wine, and liquor stores. \n",
    "\n",
    "The graph shows an upward trend from 1992 to present of the sales at beer, wine, and liquor stores.  The average sales shows less volatile spending peaks than the actual sales per month.  \n",
    "\n",
    "When looking at the rolling averages versus the value zoomed in on the year of 2017, we can see the seasonal trends over the holidays are not as drastic with the average.  Even though there is a seasonal trend of sales increased at beer, wine, and liquor stores during the holidays, the average sales are still increasing over the years.  The average over several months of sales helps reduce the volatility of the data. "
   ]
  },
  {
   "cell_type": "markdown",
   "metadata": {},
   "source": [
    "![Alcohol Stores](rolling_avg_alc.png)\n",
    "![Alcohol Stores](roll_alc_2017png.png)"
   ]
  },
  {
   "cell_type": "code",
   "execution_count": null,
   "metadata": {},
   "outputs": [],
   "source": [
    "# Code used to produce graph above\n",
    "df_alochol= df.loc[(df['KindOfBusiness'] == 'Beer, wine, and liquor stores')].sort_values(by=['Date']).copy()\n",
    "\n",
    "df_alochol['RA_3'] = df_alochol[\"Value\"].rolling(3, win_type ='triang').mean()\n",
    "df_alochol['RA_6'] = df_alochol[\"Value\"].rolling(6, win_type ='triang').mean()\n",
    "\n",
    "plt.plot(df_alochol['Date'],df_alochol['Value'], label='Value')\n",
    "plt.plot(df_alochol['Date'],df_alochol['RA_3'], label='Rolling Avg 3 Months')\n",
    "plt.plot(df_alochol['Date'],df_alochol['RA_6'], label='Rolling Avg 6 Months')\n",
    "plt.legend()\n",
    "plt.title(\"Rolling Average of Beer, wine, and liquor stores over 3 and 6 months\")\n",
    "plt.xlabel('Date')\n",
    "plt.ylabel('Value')\n",
    "plt.show()"
   ]
  },
  {
   "cell_type": "markdown",
   "metadata": {},
   "source": [
    "[Back to top](#Index)\n",
    "\n",
    "## Conclusion\n",
    "\n",
    "\n"
   ]
  },
  {
   "cell_type": "markdown",
   "metadata": {},
   "source": [
    "Out of the businesses considered, book stores sales have been going down over the last few years.  This seems like it will attract the least amount of spending.  The retail and food service businesses seem most likely to attract the most spending.  There is a consistent uptrend over the years since 1992 of sales.  "
   ]
  },
  {
   "cell_type": "markdown",
   "metadata": {},
   "source": [
    "\n",
    "[Back to top](#Index\n",
    ")\n",
    "## References\n",
    "\n"
   ]
  },
  {
   "cell_type": "markdown",
   "metadata": {},
   "source": [
    "* \"About the Monthly Retail Trade Survey.\" United States Census Bureau. January 16, 2009. \n",
    "June 1, 2022. https://www.census.gov/retail/mrts/about_the_surveys.html \n",
    "* Admin. \"Why Do Economists Use Percentage Change To Calculate Elasticity Of Demand.\" Micro B Life. March 19, 2022. June 1, 2022. https://www.microblife.in/why-do-economists-use-percentage-change-to-calculate-elasticity-of-demand/\n",
    "* Howland, Daphne. \"Monthly retail sales from the US Commerce Department.\" Retail Dive.  Industry Dive, March 17, 2020. June 1, 2022. https://www.retaildive.com/news/monthly-retail-sales-from-the-us-commerce-department/574252/\n",
    "* \"Smoothing Data with Moving Averages.\" Federal Reserve Bank of Dallas. June 1, 2022. https://www.dallasfed.org/research/basics/moving.aspx\n",
    "* \"What is an Economic Trend?\" bartleby. Barnes & Noble Education, Inc., \n",
    "April 19, 2022. June 1, 2022. https://www.bartleby.com/subject/business/concepts/economic-trends\n"
   ]
  }
 ],
 "metadata": {
  "interpreter": {
   "hash": "31f2aee4e71d21fbe5cf8b01ff0e069b9275f58929596ceb00d14d90e3e16cd6"
  },
  "kernelspec": {
   "display_name": "Python 3.8.9 64-bit",
   "language": "python",
   "name": "python3"
  },
  "language_info": {
   "codemirror_mode": {
    "name": "ipython",
    "version": 3
   },
   "file_extension": ".py",
   "mimetype": "text/x-python",
   "name": "python",
   "nbconvert_exporter": "python",
   "pygments_lexer": "ipython3",
   "version": "3.8.9"
  }
 },
 "nbformat": 4,
 "nbformat_minor": 4
}
